{
 "metadata": {
  "language_info": {
   "codemirror_mode": {
    "name": "ipython",
    "version": 3
   },
   "file_extension": ".py",
   "mimetype": "text/x-python",
   "name": "python",
   "nbconvert_exporter": "python",
   "pygments_lexer": "ipython3",
   "version": "3.8.5-final"
  },
  "orig_nbformat": 2,
  "kernelspec": {
   "name": "python3",
   "display_name": "Python 3",
   "language": "python"
  }
 },
 "nbformat": 4,
 "nbformat_minor": 2,
 "cells": [
  {
   "cell_type": "code",
   "execution_count": 5,
   "metadata": {},
   "outputs": [],
   "source": [
    "import tensorflow as tf\n",
    "import numpy as np \n",
    "import os\n",
    "from tensorflow.keras.callbacks import EarlyStopping, ModelCheckpoint\n",
    "import matplotlib.pyplot as plt \n",
    "\n",
    "from preprocess import *"
   ]
  },
  {
   "cell_type": "code",
   "execution_count": 3,
   "metadata": {},
   "outputs": [],
   "source": [
    "# 에폭당 정확도와 손실값을 시각화하는 함수\n",
    "def plot_graphs(history, string):\n",
    "    plt.plot(history.history[string])\n",
    "    plt.plot(history.history['val_'+string],'')\n",
    "    plt.xlabel('Epochs')\n",
    "    plt.ylabel('string')\n",
    "    plt.legend([string, 'val_'+string])\n",
    "    plt.show()"
   ]
  },
  {
   "cell_type": "code",
   "execution_count": 6,
   "metadata": {},
   "outputs": [],
   "source": [
    "# 학습 데이터 경로\n",
    "TRAIN_INPUTS = 'train_inputs.npy' \n",
    "TRAIN_OUTPUTS = 'train_outputs.npy'\n",
    "TRAIN_TARGETS = 'train_targets.npy'\n",
    "DATA_CONFIGS = 'data_configs.json' "
   ]
  },
  {
   "cell_type": "code",
   "execution_count": 7,
   "metadata": {},
   "outputs": [],
   "source": [
    "# 랜덤 시드값\n",
    "SEED_NUM = 1234\n",
    "tf.random.set_seed(SEED_NUM)"
   ]
  },
  {
   "cell_type": "code",
   "execution_count": 8,
   "metadata": {},
   "outputs": [],
   "source": [
    "# 학습에 필요한 데이터 불러오기\n",
    "index_inputs = np.load(open(TRAIN_INPUTS, 'rb'))\n",
    "index_outputs = np.load(open(TRAIN_OUTPUTS, 'rb'))\n",
    "index_targets = np.load(open(TRAIN_TARGETS, 'rb'))\n",
    "prepro_configs = json.load(open(DATA_CONFIGS, 'r'))"
   ]
  },
  {
   "cell_type": "code",
   "execution_count": 10,
   "metadata": {},
   "outputs": [
    {
     "output_type": "stream",
     "name": "stdout",
     "text": [
      "11823 11823 11823\n"
     ]
    }
   ],
   "source": [
    "# 함수를 통과한 값들이 예상한 크기와 같은지 확인\n",
    "print(len(index_inputs), len(index_outputs), len(index_targets))"
   ]
  },
  {
   "cell_type": "code",
   "execution_count": 21,
   "metadata": {},
   "outputs": [],
   "source": [
    "MODEL_NAME = 'seq2seq_kor'\n",
    "BATCH_SIZE = 2\n",
    "MAX_SEQUENCE = 25\n",
    "EPOCH = 30\n",
    "UNITS = 1024 # 재귀 신경망의 결과 차원\n",
    "EMBEDDING_DIM = 256 # 임베딩 차원 \n",
    "VALIDATION_SPLIT = 0.1\n",
    "\n",
    "char2idx = prepro_configs['char2idx'] # 토큰을 인덱스로 만드는 함수\n",
    "idx2char = prepro_configs['idx2char'] # 인덱스를 토큰으로 변환하는 함수\n",
    "std_index = prepro_configs['std_symbol'] # 시작 토큰\n",
    "end_index = prepro_configs['end_symbol'] # 끝 토큰 \n",
    "vocab_index = prepro_configs['vocab_size'] # 사전의 크기\n"
   ]
  },
  {
   "cell_type": "code",
   "execution_count": 23,
   "metadata": {},
   "outputs": [],
   "source": [
    "# 인코더\n",
    "class Encoder(tf.keras.layers.Layer):\n",
    "    def __init__(self, vocab_size, embedding_dim, enc_units, batch_sz):\n",
    "        # 임베딩 룩업테이블과 GRU를 구성하기 위한 인자를 입력으로 받는다.\n",
    "        super(Encoder, self).__init__()\n",
    "        self.batch_sz = batch_sz #베치 크기\n",
    "        self.enc_units = enc_units # 재귀 신경망의 결과 차원\n",
    "        self.vocab_size = vocab_size # 사전 크기\n",
    "        self.embedding_dim = embedding_dim # 임베딩 차원\n",
    "\n",
    "        # 사전에 포함된 각 단어를 self.embeddin_dim 차원의 임베딩 벡터로 만드는 함수\n",
    "        self.embedding = tf.keras.layers.Embedding(self.vocab_size, self.embedding_dim)\n",
    "        # GRU 신경망을 만드는 함수\n",
    "        self.gru = tf.keras.layers.GRU(self.enc_units, # GRU의 결과 차원의 크기 \n",
    "        return_sequences=True, # 각 시퀀스마다 출력 반환 여부 결정\n",
    "        return_state=True, # 마지막 상태값 반환 여부\n",
    "        recurrent_initializer='glorot_uniform') # 초깃값을 무엇으로 할지 선언할 수 있다.(현재는 이전노드와 다음 노드의 개수에 의존하는 방법 사용)\n",
    "\n",
    "    def call(self, x, hidden): # 입력값 x와 은닉상태 hidden을 받는다\n",
    "        x = self.embedding(x) # 앞의 embedding함수를 통하여 x를 임베딩 벡터로 만들기\n",
    "        output, state = self.gru(x, inital_state= hidden) # gru함수에 임베딩 벡터와 재귀 순환망의 초기화 상태로 인자로 받은 은닉 상태값 전달, 결괏값으로 시퀀스의 출력값과 마지막 상태값을 리턴 \n",
    "        return output, state\n",
    "\n",
    "    # 배치 크기를 받아 재귀 순환망의 초기에 사용될 크기의 은닉 상태를 만드는 역할\n",
    "    def initialize_hidden_state(self, inp):\n",
    "        return tf.zeros(tf.shape(inp)[0], self.enc_units)"
   ]
  },
  {
   "cell_type": "code",
   "execution_count": 25,
   "metadata": {},
   "outputs": [],
   "source": [
    "# 어텐션\n",
    "class BahdanauAttention(tf.keras.layers.Layer):\n",
    "    def __init__(self, units):\n",
    "        super(BahdanauAttention,self).__init__()\n",
    "        self.W1 = tf.keras.layers.Dense(units) \n",
    "        self.W2 = tf.keras.layers.Dense(units)\n",
    "        self.V = tf.keras.layers.Dense(1)       # units와 1은 출력 크기\n",
    "\n",
    "    def call(self, query, values):   # query = 인코더 재귀 순환망의 은닉상태값, values = 인코더 재귀 순환망의 결괏값\n",
    "        hidden_with_time_axis = tf.expand_dims(query, 1)  # query를 행렬곱을 할 수 있는 형태로 변경\n",
    "        score = self.V(tf.nn.tanh(self.W1(values)+self.W2(hidden_with_time_axis))) # \n",
    "\n",
    "        attention_weights = tf.nn.softmax(score, axis=1)\n",
    "\n",
    "        context_vector = attention_weights * values\n",
    "        context_vector =tf.reduce_sum(context_vector,axis=1) # 차원을 줄이면서 axis 방향으로 더함.\n",
    "\n",
    "        return context_vector, attention_weights # 어텐션이 계산된 문맥 벡터, 가중치 "
   ]
  },
  {
   "cell_type": "code",
   "execution_count": null,
   "metadata": {},
   "outputs": [],
   "source": [
    "# 디코더\n",
    "class Decoder(tf.keras.layers.Layer):\n",
    "    def __init__(self, vocab_size, embedding_dim, dec_units, batch_sz):\n",
    "        super(Decoder, self).__init__()\n",
    "\n",
    "        self.batch_sz = batch_sz\n",
    "        self.dec_units = dec_units\n",
    "        self.vocab_size = vocab_size\n",
    "        self.embedding_dim = embedding_dim # 임베딩 차원\n",
    "\n",
    "        self.embedding = tf.keras.layers.Embedding(self.vocab_size, self.embedding_dim)\n",
    "        self.gru = tf.keras.layers.GRU(self.dec_units,\n",
    "        return_sequences=True,\n",
    "        return_state=True,\n",
    "        recurrent_initializer='glorot_uniform')\n",
    "        self.fc = tf.keras.layers.Dense(self.vocab_size) # 출력 값이 사전 크기인 완전 연결 계층\n",
    "        \n",
    "        self.attention = BahdanauAttention(self.dec_units) \n",
    "    \n",
    "    def call(self, x, hidden, enc_output): # 디코더의 입력값 x, 인코더의 은닉 상태 값 hidden, 인코더의 결괏값\n",
    "        context_vector, attention_weights = self.attention(hidden, enc_output)\n",
    "\n",
    "        x = self.embedding(x)\n",
    "\n",
    "        x = tf.concat([tf.expand_dims(context_vector,1),x], axis=-1) # 문맥 벡터와 임베딩 벡터를 결합\n",
    "\n",
    "        output, state = self.gru(x) # 디코더 순환 신경망을 통과\n",
    "        output = tf.reshape(output,(-1,output.shape[2])) # 순환 신경망의 결괏값을 얻는다\n",
    "\n",
    "        x = self.fc(output) # 완전 연결 계층을 통과해서 사전 벡터 크기의 벡터 x를 만든다. \n",
    "\n",
    "        return x, state, attention_weights"
   ]
  }
 ]
}